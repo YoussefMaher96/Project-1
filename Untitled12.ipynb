{
 "cells": [
  {
   "cell_type": "markdown",
   "id": "f538e33c",
   "metadata": {},
   "source": [
    "#  Loops"
   ]
  },
  {
   "cell_type": "code",
   "execution_count": 2,
   "id": "391df738",
   "metadata": {},
   "outputs": [
    {
     "name": "stdout",
     "output_type": "stream",
     "text": [
      "amit\n",
      "learning\n",
      "python\n"
     ]
    }
   ],
   "source": [
    "x= [\"amit\",\"learning\",\"python\"]\n",
    "\n",
    "print(x[0])\n",
    "print(x[1])\n",
    "print(x[2])"
   ]
  },
  {
   "cell_type": "code",
   "execution_count": 3,
   "id": "f422da52",
   "metadata": {},
   "outputs": [
    {
     "name": "stdout",
     "output_type": "stream",
     "text": [
      "amit\n",
      "learning\n",
      "python\n"
     ]
    }
   ],
   "source": [
    "# print values using loop\n",
    "\n",
    "x= [\"amit\",\"learning\",\"python\"]\n",
    "\n",
    "for a in x:\n",
    "    print(a)"
   ]
  },
  {
   "cell_type": "code",
   "execution_count": 4,
   "id": "d0568d12",
   "metadata": {},
   "outputs": [
    {
     "name": "stdout",
     "output_type": "stream",
     "text": [
      "['amit', 'learning', 'python']\n",
      "['amit', 'learning', 'python']\n",
      "['amit', 'learning', 'python']\n"
     ]
    }
   ],
   "source": [
    "x= [\"amit\",\"learning\",\"python\"]\n",
    "for a in x:\n",
    "    print(x)"
   ]
  },
  {
   "cell_type": "code",
   "execution_count": 7,
   "id": "25e9322d",
   "metadata": {},
   "outputs": [
    {
     "name": "stdout",
     "output_type": "stream",
     "text": [
      "a\n",
      "m\n",
      "i\n",
      "t\n"
     ]
    }
   ],
   "source": [
    "for x in \"amit\":\n",
    "    print(x)\n"
   ]
  },
  {
   "cell_type": "code",
   "execution_count": 8,
   "id": "4142a010",
   "metadata": {},
   "outputs": [
    {
     "name": "stdout",
     "output_type": "stream",
     "text": [
      "amit\n"
     ]
    }
   ],
   "source": [
    "for x in [\"amit\"]:\n",
    "    print(x)"
   ]
  },
  {
   "cell_type": "code",
   "execution_count": 9,
   "id": "9f72f244",
   "metadata": {},
   "outputs": [
    {
     "name": "stdout",
     "output_type": "stream",
     "text": [
      "a\n",
      "m\n",
      "i\n",
      "t\n"
     ]
    }
   ],
   "source": [
    "for x in (\"amit\"):\n",
    "    print(x)"
   ]
  },
  {
   "cell_type": "code",
   "execution_count": 10,
   "id": "afa01087",
   "metadata": {},
   "outputs": [
    {
     "name": "stdout",
     "output_type": "stream",
     "text": [
      "amit\n"
     ]
    }
   ],
   "source": [
    "for x in (\"amit\",):\n",
    "    print(x)"
   ]
  },
  {
   "cell_type": "markdown",
   "id": "2a9e0a2b",
   "metadata": {},
   "source": [
    "# Break and continous"
   ]
  },
  {
   "cell_type": "code",
   "execution_count": null,
   "id": "a4cead2b",
   "metadata": {},
   "outputs": [],
   "source": []
  },
  {
   "cell_type": "code",
   "execution_count": 16,
   "id": "ac09bb88",
   "metadata": {
    "scrolled": true
   },
   "outputs": [
    {
     "name": "stdout",
     "output_type": "stream",
     "text": [
      "done\n",
      "m\n",
      "i\n",
      "t\n"
     ]
    }
   ],
   "source": [
    "for x in \"amit\":\n",
    "    if x==\"a\":\n",
    "        print(\"done\")\n",
    "    else:\n",
    "        print(x)"
   ]
  },
  {
   "cell_type": "code",
   "execution_count": 17,
   "id": "10d97544",
   "metadata": {},
   "outputs": [
    {
     "name": "stdout",
     "output_type": "stream",
     "text": [
      "a\n",
      "m\n",
      "done\n",
      "t\n"
     ]
    }
   ],
   "source": [
    "for x in \"amit\":\n",
    "    if x==\"i\":\n",
    "        print(\"done\")\n",
    "    else:\n",
    "        print(x)    "
   ]
  },
  {
   "cell_type": "code",
   "execution_count": 18,
   "id": "f089a49c",
   "metadata": {},
   "outputs": [
    {
     "name": "stdout",
     "output_type": "stream",
     "text": [
      "amit\n",
      "amit\n"
     ]
    }
   ],
   "source": [
    "for x in [\"amit\",\"amit\"]:\n",
    "    if x==\"t\":\n",
    "        print(\"done\")\n",
    "    else:\n",
    "        print(x)    "
   ]
  },
  {
   "cell_type": "code",
   "execution_count": 19,
   "id": "ef0fc211",
   "metadata": {},
   "outputs": [
    {
     "name": "stdout",
     "output_type": "stream",
     "text": [
      "a\n",
      "m\n",
      "i\n",
      "done\n"
     ]
    }
   ],
   "source": [
    "for x in (\"amit\"):\n",
    "    if x==\"t\":\n",
    "        print(\"done\")\n",
    "    else:\n",
    "        print(x)    "
   ]
  },
  {
   "cell_type": "code",
   "execution_count": 21,
   "id": "e2817dae",
   "metadata": {},
   "outputs": [
    {
     "name": "stdout",
     "output_type": "stream",
     "text": [
      "amit\n"
     ]
    }
   ],
   "source": [
    "for x in (\"amit\",):\n",
    "    if x==\"t\":\n",
    "        print(\"done\")\n",
    "    else:\n",
    "        print(x)    "
   ]
  },
  {
   "cell_type": "code",
   "execution_count": 27,
   "id": "610338d5",
   "metadata": {},
   "outputs": [
    {
     "name": "stdout",
     "output_type": "stream",
     "text": [
      "a\n"
     ]
    }
   ],
   "source": [
    "for x in (\"amit\"):\n",
    "    if x==\"m\":\n",
    "        break\n",
    "    else:\n",
    "        print(x) "
   ]
  },
  {
   "cell_type": "code",
   "execution_count": 28,
   "id": "e193917c",
   "metadata": {},
   "outputs": [
    {
     "name": "stdout",
     "output_type": "stream",
     "text": [
      "a\n",
      "amit learning\n"
     ]
    }
   ],
   "source": [
    "for x in (\"amit\"):\n",
    "    if x==\"m\":\n",
    "        break\n",
    "    else:\n",
    "        print(x) \n",
    "print (\"amit learning\")       "
   ]
  },
  {
   "cell_type": "code",
   "execution_count": 29,
   "id": "352f2ea0",
   "metadata": {},
   "outputs": [
    {
     "name": "stdout",
     "output_type": "stream",
     "text": [
      "a\n",
      "i\n",
      "t\n"
     ]
    }
   ],
   "source": [
    "for x in (\"amit\"):\n",
    "    if x==\"m\":\n",
    "        continue\n",
    "    else:\n",
    "        print(x) "
   ]
  },
  {
   "cell_type": "code",
   "execution_count": 30,
   "id": "404610a1",
   "metadata": {},
   "outputs": [
    {
     "name": "stdout",
     "output_type": "stream",
     "text": [
      "a\n",
      "m\n",
      "t\n",
      ",\n",
      "l\n",
      "e\n",
      "a\n",
      "r\n",
      "n\n",
      "n\n",
      "g\n"
     ]
    }
   ],
   "source": [
    "for x in (\"amit,learning\"):\n",
    "    if x==\"i\":\n",
    "        continue\n",
    "    else:\n",
    "        print(x) "
   ]
  },
  {
   "cell_type": "code",
   "execution_count": 31,
   "id": "a39838a8",
   "metadata": {},
   "outputs": [
    {
     "name": "stdout",
     "output_type": "stream",
     "text": [
      "amit,learning\n",
      "amit\n"
     ]
    }
   ],
   "source": [
    "for x in (\"amit,learning\",\"amit\"):\n",
    "    if x==\"i\":\n",
    "        continue\n",
    "    else:\n",
    "        print(x) "
   ]
  },
  {
   "cell_type": "code",
   "execution_count": 32,
   "id": "9cb6455c",
   "metadata": {},
   "outputs": [
    {
     "name": "stdout",
     "output_type": "stream",
     "text": [
      "amit,learning\n"
     ]
    }
   ],
   "source": [
    "for x in (\"amit,learning\",\"amit\"):\n",
    "    if x==\"amit\":\n",
    "        continue\n",
    "    else:\n",
    "        print(x) "
   ]
  },
  {
   "cell_type": "code",
   "execution_count": 33,
   "id": "9ed0666e",
   "metadata": {},
   "outputs": [
    {
     "name": "stdout",
     "output_type": "stream",
     "text": [
      "amit,learning\n"
     ]
    }
   ],
   "source": [
    "for x in (\"amit,learning\",\"amit\"):\n",
    "    if x==\"amit\":\n",
    "        break\n",
    "    else:\n",
    "        print(x) "
   ]
  },
  {
   "cell_type": "code",
   "execution_count": 35,
   "id": "c5846c75",
   "metadata": {},
   "outputs": [
    {
     "name": "stdout",
     "output_type": "stream",
     "text": [
      "amit\n",
      "learning\n",
      "python\n"
     ]
    }
   ],
   "source": [
    "x=[\"amit\",\"learning\",\"python\"]\n",
    "for q in x:\n",
    "    print(q)\n",
    "    if q==\"learning\":\n",
    "        continue"
   ]
  },
  {
   "cell_type": "code",
   "execution_count": 36,
   "id": "d803aeec",
   "metadata": {},
   "outputs": [
    {
     "name": "stdout",
     "output_type": "stream",
     "text": [
      "amit\n",
      "python\n"
     ]
    }
   ],
   "source": [
    "x=[\"amit\",\"learning\",\"python\"]\n",
    "for q in x:\n",
    "    if q==\"learning\":\n",
    "        continue\n",
    "    print(q) "
   ]
  },
  {
   "cell_type": "code",
   "execution_count": 38,
   "id": "2f2e2a67",
   "metadata": {},
   "outputs": [
    {
     "name": "stdout",
     "output_type": "stream",
     "text": [
      "learning\n"
     ]
    }
   ],
   "source": [
    "x=[\"amit\",\"learning\",\"python\"]\n",
    "for q in x:\n",
    "    if q==\"learning\":\n",
    "     print(q)    \n",
    "    continue\n",
    "    "
   ]
  },
  {
   "cell_type": "code",
   "execution_count": 39,
   "id": "9f7a67e0",
   "metadata": {},
   "outputs": [
    {
     "name": "stdout",
     "output_type": "stream",
     "text": [
      "0\n",
      "1\n",
      "2\n",
      "3\n",
      "4\n",
      "5\n"
     ]
    }
   ],
   "source": [
    "for x in range (6):\n",
    "    print(x)"
   ]
  },
  {
   "cell_type": "code",
   "execution_count": 40,
   "id": "027da7be",
   "metadata": {},
   "outputs": [
    {
     "name": "stdout",
     "output_type": "stream",
     "text": [
      "0\n",
      "1\n",
      "2\n",
      "3\n"
     ]
    }
   ],
   "source": [
    "for x in range (4):\n",
    "    print(x)"
   ]
  },
  {
   "cell_type": "code",
   "execution_count": 41,
   "id": "7820b49c",
   "metadata": {},
   "outputs": [
    {
     "name": "stdout",
     "output_type": "stream",
     "text": [
      "2\n",
      "4\n",
      "6\n",
      "8\n"
     ]
    }
   ],
   "source": [
    "for x in range (2,10,2):\n",
    "    print(x)"
   ]
  },
  {
   "cell_type": "code",
   "execution_count": 42,
   "id": "7d7753c6",
   "metadata": {},
   "outputs": [
    {
     "name": "stdout",
     "output_type": "stream",
     "text": [
      "0\n",
      "1\n",
      "2\n",
      "3\n",
      "4\n",
      "5\n",
      "finish\n"
     ]
    }
   ],
   "source": [
    "for x in range (6):\n",
    "    print(x)\n",
    "else:\n",
    "    print(\"finish\")"
   ]
  },
  {
   "cell_type": "code",
   "execution_count": 43,
   "id": "c5816833",
   "metadata": {},
   "outputs": [
    {
     "name": "stdout",
     "output_type": "stream",
     "text": [
      "0\n",
      "1\n",
      "2\n",
      "3\n",
      "4\n",
      "5\n"
     ]
    }
   ],
   "source": [
    "for x in range (6):\n",
    "    print(x)"
   ]
  },
  {
   "cell_type": "code",
   "execution_count": 52,
   "id": "77dd0a18",
   "metadata": {},
   "outputs": [],
   "source": [
    "for x in range (6):\n",
    "    if x==3:\n",
    "        break\n",
    "        print(x)\n",
    "else:\n",
    "    print(\"finish\")"
   ]
  },
  {
   "cell_type": "code",
   "execution_count": 53,
   "id": "ac8a499b",
   "metadata": {},
   "outputs": [
    {
     "name": "stdout",
     "output_type": "stream",
     "text": [
      "finish\n",
      "finish\n",
      "finish\n"
     ]
    }
   ],
   "source": [
    "for x in range (6):\n",
    "    if x==3:\n",
    "        break\n",
    "        print(x)\n",
    "    else:\n",
    "      print(\"finish\")"
   ]
  },
  {
   "cell_type": "code",
   "execution_count": 54,
   "id": "59d964ff",
   "metadata": {},
   "outputs": [
    {
     "name": "stdout",
     "output_type": "stream",
     "text": [
      "3\n",
      "finish\n"
     ]
    }
   ],
   "source": [
    "for x in range (6):\n",
    "    if x==3:\n",
    "        print(x)\n",
    "else:\n",
    "    print(\"finish\")"
   ]
  },
  {
   "cell_type": "code",
   "execution_count": 55,
   "id": "8ffd9514",
   "metadata": {},
   "outputs": [
    {
     "name": "stdout",
     "output_type": "stream",
     "text": [
      "3\n"
     ]
    }
   ],
   "source": [
    "for x in range (6):\n",
    "    if x==3:\n",
    "        print(x)\n",
    "        break\n",
    "else:\n",
    "    print(\"finish\")"
   ]
  },
  {
   "cell_type": "code",
   "execution_count": 56,
   "id": "27640308",
   "metadata": {},
   "outputs": [
    {
     "name": "stdout",
     "output_type": "stream",
     "text": [
      "3\n",
      "finish\n"
     ]
    }
   ],
   "source": [
    "for x in range (6):\n",
    "    if x==3:\n",
    "        print(x)\n",
    "        continue\n",
    "else:\n",
    "    print(\"finish\")"
   ]
  },
  {
   "cell_type": "code",
   "execution_count": 58,
   "id": "5065f368",
   "metadata": {},
   "outputs": [
    {
     "name": "stdout",
     "output_type": "stream",
     "text": [
      "finish\n",
      "finish\n",
      "finish\n",
      "finish\n",
      "finish\n"
     ]
    }
   ],
   "source": [
    "for x in range (6):\n",
    "    if x==3:\n",
    "        continue\n",
    "        print(x)\n",
    "    else:\n",
    "     print(\"finish\")"
   ]
  },
  {
   "cell_type": "code",
   "execution_count": 59,
   "id": "04235f26",
   "metadata": {},
   "outputs": [
    {
     "name": "stdout",
     "output_type": "stream",
     "text": [
      "finish\n",
      "finish\n",
      "finish\n",
      "finish\n",
      "finish\n",
      "break\n"
     ]
    }
   ],
   "source": [
    "for x in range (6):\n",
    "    if x==3:\n",
    "        continue\n",
    "        print(x)\n",
    "    else:\n",
    "     print(\"finish\")\n",
    "else:\n",
    "    print(\"break\")"
   ]
  },
  {
   "cell_type": "code",
   "execution_count": 60,
   "id": "f7f7af9c",
   "metadata": {},
   "outputs": [
    {
     "name": "stdout",
     "output_type": "stream",
     "text": [
      "amit amit\n",
      "amit learning\n",
      "amit python\n",
      "learning amit\n",
      "learning learning\n",
      "learning python\n",
      "python amit\n",
      "python learning\n",
      "python python\n"
     ]
    }
   ],
   "source": [
    "x=[\"amit\",\"learning\",\"python\"]\n",
    "y=[\"amit\",\"learning\",\"python\"]\n",
    "\n",
    "for a in x:\n",
    "    for b in y:\n",
    "        print(a,b)"
   ]
  },
  {
   "cell_type": "code",
   "execution_count": 61,
   "id": "358012ea",
   "metadata": {},
   "outputs": [
    {
     "name": "stdout",
     "output_type": "stream",
     "text": [
      "ss amit\n",
      "ss learning\n",
      "ss python\n",
      "kk amit\n",
      "kk learning\n",
      "kk python\n",
      "tt amit\n",
      "tt learning\n",
      "tt python\n"
     ]
    }
   ],
   "source": [
    "x=[\"ss\",\"kk\",\"tt\"]\n",
    "y=[\"amit\",\"learning\",\"python\"]\n",
    "\n",
    "for a in x:\n",
    "    for b in y:\n",
    "        print(a,b)"
   ]
  },
  {
   "cell_type": "code",
   "execution_count": 62,
   "id": "727a1294",
   "metadata": {},
   "outputs": [
    {
     "name": "stdout",
     "output_type": "stream",
     "text": [
      "ss amit\n",
      "kk amit\n",
      "tt amit\n",
      "ss learning\n",
      "kk learning\n",
      "tt learning\n",
      "ss python\n",
      "kk python\n",
      "tt python\n"
     ]
    }
   ],
   "source": [
    "x=[\"ss\",\"kk\",\"tt\"]\n",
    "y=[\"amit\",\"learning\",\"python\"]\n",
    "\n",
    "for b in y:\n",
    "    for a in x:\n",
    "        print(a,b)"
   ]
  },
  {
   "cell_type": "code",
   "execution_count": 63,
   "id": "2d3de43f",
   "metadata": {},
   "outputs": [
    {
     "name": "stdout",
     "output_type": "stream",
     "text": [
      "['ss', 'kk', 'tt'] ['amit', 'learning', 'python']\n",
      "['ss', 'kk', 'tt'] ['amit', 'learning', 'python']\n",
      "['ss', 'kk', 'tt'] ['amit', 'learning', 'python']\n",
      "['ss', 'kk', 'tt'] ['amit', 'learning', 'python']\n",
      "['ss', 'kk', 'tt'] ['amit', 'learning', 'python']\n",
      "['ss', 'kk', 'tt'] ['amit', 'learning', 'python']\n",
      "['ss', 'kk', 'tt'] ['amit', 'learning', 'python']\n",
      "['ss', 'kk', 'tt'] ['amit', 'learning', 'python']\n",
      "['ss', 'kk', 'tt'] ['amit', 'learning', 'python']\n"
     ]
    }
   ],
   "source": [
    "x=[\"ss\",\"kk\",\"tt\"]\n",
    "y=[\"amit\",\"learning\",\"python\"]\n",
    "\n",
    "for b in y:\n",
    "    for a in x:\n",
    "        print(x,y)"
   ]
  },
  {
   "cell_type": "code",
   "execution_count": 67,
   "id": "ecfa9d6d",
   "metadata": {},
   "outputs": [
    {
     "name": "stdout",
     "output_type": "stream",
     "text": [
      "ss\n",
      "amit\n",
      "learning\n",
      "python\n",
      "kk\n",
      "amit\n",
      "learning\n",
      "python\n",
      "tt\n",
      "amit\n",
      "learning\n",
      "python\n"
     ]
    }
   ],
   "source": [
    "x=[\"ss\",\"kk\",\"tt\"]\n",
    "y=[\"amit\",\"learning\",\"python\"]\n",
    "\n",
    "for a in x:\n",
    "    print(a)\n",
    "    for b in y:\n",
    "        print(b)"
   ]
  },
  {
   "cell_type": "markdown",
   "id": "ced30a77",
   "metadata": {},
   "source": [
    "# nested loop "
   ]
  },
  {
   "cell_type": "code",
   "execution_count": 65,
   "id": "bc481b28",
   "metadata": {},
   "outputs": [
    {
     "name": "stdout",
     "output_type": "stream",
     "text": [
      "ss\n",
      "amit\n",
      "kk\n",
      "amit\n",
      "tt\n",
      "amit\n",
      "ss\n",
      "learning\n",
      "kk\n",
      "learning\n",
      "tt\n",
      "learning\n",
      "ss\n",
      "python\n",
      "kk\n",
      "python\n",
      "tt\n",
      "python\n"
     ]
    }
   ],
   "source": [
    "x=[\"ss\",\"kk\",\"tt\"]\n",
    "y=[\"amit\",\"learning\",\"python\"]\n",
    "\n",
    "for b in y:\n",
    "    for a in x:\n",
    "        print(a)\n",
    "        print(b)"
   ]
  },
  {
   "cell_type": "code",
   "execution_count": 69,
   "id": "9d4eb03a",
   "metadata": {},
   "outputs": [
    {
     "name": "stdout",
     "output_type": "stream",
     "text": [
      "ss\n",
      "amit\n",
      "kk\n",
      "amit\n",
      "tt\n",
      "amit\n",
      "ss\n",
      "learning\n",
      "kk\n",
      "learning\n",
      "tt\n",
      "learning\n",
      "ss\n",
      "python\n",
      "kk\n",
      "python\n",
      "tt\n",
      "python\n"
     ]
    }
   ],
   "source": [
    "x=[\"ss\",\"kk\",\"tt\"]\n",
    "y=[\"amit\",\"learning\",\"python\"]\n",
    "\n",
    "for b in y:\n",
    "    for a in x:\n",
    "        print(a)\n",
    "        print(b)"
   ]
  },
  {
   "cell_type": "markdown",
   "id": "a833a683",
   "metadata": {},
   "source": [
    "# While loop"
   ]
  },
  {
   "cell_type": "code",
   "execution_count": 71,
   "id": "60724d43",
   "metadata": {},
   "outputs": [
    {
     "name": "stdout",
     "output_type": "stream",
     "text": [
      "yes\n",
      "yes\n",
      "yes\n",
      "yes\n",
      "yes\n"
     ]
    }
   ],
   "source": [
    "x=5 \n",
    "while x>0:\n",
    "    print(\"yes\")\n",
    "    x=x-1"
   ]
  },
  {
   "cell_type": "code",
   "execution_count": 72,
   "id": "25d24461",
   "metadata": {},
   "outputs": [
    {
     "name": "stdout",
     "output_type": "stream",
     "text": [
      "hello Geek\n",
      "hello Geek\n",
      "hello Geek\n"
     ]
    }
   ],
   "source": [
    "count = 0\n",
    "while (count <3):\n",
    "    count = count + 1 \n",
    "    print(\"hello Geek\")"
   ]
  },
  {
   "cell_type": "code",
   "execution_count": 78,
   "id": "fc585b1f",
   "metadata": {},
   "outputs": [],
   "source": [
    "count = 0\n",
    "while (count==3):\n",
    "    count = count + 1 \n",
    "    print(\"hello Geek\")"
   ]
  },
  {
   "cell_type": "code",
   "execution_count": 79,
   "id": "327bdec6",
   "metadata": {},
   "outputs": [
    {
     "name": "stdout",
     "output_type": "stream",
     "text": [
      "4\n"
     ]
    }
   ],
   "source": [
    "x=5\n",
    "while(x>0):\n",
    "    x-=1\n",
    "    if x==3:\n",
    "        break\n",
    "    else:\n",
    "        print(x)\n",
    " "
   ]
  },
  {
   "cell_type": "code",
   "execution_count": 80,
   "id": "a455d978",
   "metadata": {},
   "outputs": [
    {
     "name": "stdout",
     "output_type": "stream",
     "text": [
      "4\n",
      "2\n",
      "1\n",
      "0\n"
     ]
    }
   ],
   "source": [
    "x=5\n",
    "while(x>0):\n",
    "    x-=1\n",
    "    if x==3:\n",
    "        continue\n",
    "    else:\n",
    "        print(x)\n",
    " "
   ]
  },
  {
   "cell_type": "markdown",
   "id": "b763788c",
   "metadata": {},
   "source": [
    "# Function"
   ]
  },
  {
   "cell_type": "code",
   "execution_count": 81,
   "id": "8aa2e309",
   "metadata": {},
   "outputs": [
    {
     "name": "stdout",
     "output_type": "stream",
     "text": [
      "hello world\n"
     ]
    }
   ],
   "source": [
    "print(\"hello world\")"
   ]
  },
  {
   "cell_type": "code",
   "execution_count": 82,
   "id": "5047b235",
   "metadata": {},
   "outputs": [
    {
     "name": "stdout",
     "output_type": "stream",
     "text": [
      "hello world\n"
     ]
    }
   ],
   "source": [
    "def function1():\n",
    "    print(\"hello world\")\n",
    "function1()"
   ]
  },
  {
   "cell_type": "code",
   "execution_count": 83,
   "id": "0dfc32a3",
   "metadata": {},
   "outputs": [
    {
     "name": "stdout",
     "output_type": "stream",
     "text": [
      "write your name: Sameh\n",
      "Sameh\n"
     ]
    }
   ],
   "source": [
    "def name(x):\n",
    "    print(x)\n",
    "    \n",
    "x=input(\"write your name: \")\n",
    "\n",
    "name(x)"
   ]
  },
  {
   "cell_type": "markdown",
   "id": "b935baba",
   "metadata": {},
   "source": [
    "# User...... 1)name 2)age 3) phone number"
   ]
  },
  {
   "cell_type": "code",
   "execution_count": 89,
   "id": "8ad4d763",
   "metadata": {},
   "outputs": [
    {
     "name": "stdout",
     "output_type": "stream",
     "text": [
      "enter your name: ss\n",
      "enter your age: 44\n",
      "enter your phone number:22112212121\n"
     ]
    },
    {
     "ename": "NameError",
     "evalue": "name 'phone' is not defined",
     "output_type": "error",
     "traceback": [
      "\u001b[1;31m---------------------------------------------------------------------------\u001b[0m",
      "\u001b[1;31mNameError\u001b[0m                                 Traceback (most recent call last)",
      "Input \u001b[1;32mIn [89]\u001b[0m, in \u001b[0;36m<cell line: 5>\u001b[1;34m()\u001b[0m\n\u001b[0;32m      2\u001b[0m age \u001b[38;5;241m=\u001b[39m \u001b[38;5;28mint\u001b[39m(\u001b[38;5;28minput\u001b[39m(\u001b[38;5;124m\"\u001b[39m\u001b[38;5;124menter your age: \u001b[39m\u001b[38;5;124m\"\u001b[39m))\n\u001b[0;32m      3\u001b[0m Phone \u001b[38;5;241m=\u001b[39m \u001b[38;5;28minput\u001b[39m(\u001b[38;5;124m\"\u001b[39m\u001b[38;5;124menter your phone number:\u001b[39m\u001b[38;5;124m\"\u001b[39m)\n\u001b[1;32m----> 5\u001b[0m \u001b[38;5;28mprint\u001b[39m(\u001b[38;5;124m\"\u001b[39m\u001b[38;5;124myour name is: \u001b[39m\u001b[38;5;132;01m{}\u001b[39;00m\u001b[38;5;124m, your age is: \u001b[39m\u001b[38;5;132;01m{}\u001b[39;00m\u001b[38;5;124m, your phone number is: \u001b[39m\u001b[38;5;132;01m{}\u001b[39;00m\u001b[38;5;124m\"\u001b[39m\u001b[38;5;241m.\u001b[39mformat(name,age,\u001b[43mphone\u001b[49m))\n",
      "\u001b[1;31mNameError\u001b[0m: name 'phone' is not defined"
     ]
    }
   ],
   "source": [
    "name = input(\"enter your name: \")\n",
    "age = int(input(\"enter your age: \"))\n",
    "Phone = input(\"enter your phone number:\")\n",
    "\n",
    "print(\"your name is: {}, your age is: {}, your phone number is: {}\".format(name,age,phone))"
   ]
  },
  {
   "cell_type": "code",
   "execution_count": null,
   "id": "fbf890c1",
   "metadata": {},
   "outputs": [],
   "source": []
  },
  {
   "cell_type": "code",
   "execution_count": null,
   "id": "f2c17672",
   "metadata": {},
   "outputs": [],
   "source": []
  },
  {
   "cell_type": "code",
   "execution_count": null,
   "id": "07541113",
   "metadata": {},
   "outputs": [],
   "source": []
  }
 ],
 "metadata": {
  "kernelspec": {
   "display_name": "Python 3 (ipykernel)",
   "language": "python",
   "name": "python3"
  },
  "language_info": {
   "codemirror_mode": {
    "name": "ipython",
    "version": 3
   },
   "file_extension": ".py",
   "mimetype": "text/x-python",
   "name": "python",
   "nbconvert_exporter": "python",
   "pygments_lexer": "ipython3",
   "version": "3.10.6"
  }
 },
 "nbformat": 4,
 "nbformat_minor": 5
}
